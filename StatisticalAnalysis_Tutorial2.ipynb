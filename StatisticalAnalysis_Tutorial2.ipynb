{
 "cells": [
  {
   "cell_type": "markdown",
   "id": "7b0dac99",
   "metadata": {},
   "source": [
    "### Tutorials on Data Analysis using Python\n",
    "\n",
    "### 2. Statistical Analysis:"
   ]
  },
  {
   "cell_type": "code",
   "execution_count": 203,
   "id": "c3fc56a8",
   "metadata": {},
   "outputs": [],
   "source": [
    "# First install scipy package (using Anaconda): Anaconda>>Environments>>All>>Search for Scipy, click to install it\n",
    "# Or pip install scipy --upgrade\n",
    "import pandas as pd\n",
    "import numpy as np\n",
    "import matplotlib.pyplot as plt\n",
    "plt.rcParams.update({'font.size': 12}) # Increase fontsize\n",
    "import scipy.stats as stats\n",
    "from statsmodels.stats.multicomp import MultiComparison"
   ]
  },
  {
   "cell_type": "code",
   "execution_count": 211,
   "id": "c3f94c45",
   "metadata": {
    "scrolled": true
   },
   "outputs": [
    {
     "name": "stdout",
     "output_type": "stream",
     "text": [
      "The number of rows before and after removing observations with missing data is 231 and 187, respectively\n"
     ]
    }
   ],
   "source": [
    "df_movie = pd.read_csv(\"moviedata.csv\")\n",
    "rowcount = len(df_movie.index)\n",
    "df_movie.dropna(inplace=True)\n",
    "print('The number of rows before and after removing observations with missing data is {} and {}, respectively'.format(rowcount,len(df_movie.index)))"
   ]
  },
  {
   "cell_type": "code",
   "execution_count": 219,
   "id": "ef2b0e02",
   "metadata": {},
   "outputs": [
    {
     "data": {
      "text/html": [
       "<style type=\"text/css\">\n",
       "</style>\n",
       "<table id=\"T_a62ac\">\n",
       "  <caption>The five most profitable original movies</caption>\n",
       "  <thead>\n",
       "    <tr>\n",
       "      <th id=\"T_a62ac_level0_col0\" class=\"col_heading level0 col0\" >movie</th>\n",
       "      <th id=\"T_a62ac_level0_col1\" class=\"col_heading level0 col1\" >profit</th>\n",
       "    </tr>\n",
       "  </thead>\n",
       "  <tbody>\n",
       "    <tr>\n",
       "      <td id=\"T_a62ac_row0_col0\" class=\"data row0 col0\" >American Sniper</td>\n",
       "      <td id=\"T_a62ac_row0_col1\" class=\"data row0 col1\" >291200000</td>\n",
       "    </tr>\n",
       "    <tr>\n",
       "      <td id=\"T_a62ac_row1_col0\" class=\"data row1 col0\" >The Lego Movie</td>\n",
       "      <td id=\"T_a62ac_row1_col1\" class=\"data row1 col1\" >198000000</td>\n",
       "    </tr>\n",
       "    <tr>\n",
       "      <td id=\"T_a62ac_row2_col0\" class=\"data row2 col0\" >Inside Out</td>\n",
       "      <td id=\"T_a62ac_row2_col1\" class=\"data row2 col1\" >170000000</td>\n",
       "    </tr>\n",
       "    <tr>\n",
       "      <td id=\"T_a62ac_row3_col0\" class=\"data row3 col0\" >Guardians of the Galaxy</td>\n",
       "      <td id=\"T_a62ac_row3_col1\" class=\"data row3 col1\" >163000000</td>\n",
       "    </tr>\n",
       "    <tr>\n",
       "      <td id=\"T_a62ac_row4_col0\" class=\"data row4 col0\" >Neighbors</td>\n",
       "      <td id=\"T_a62ac_row4_col1\" class=\"data row4 col1\" >132000000</td>\n",
       "    </tr>\n",
       "  </tbody>\n",
       "</table>\n"
      ],
      "text/plain": [
       "<pandas.io.formats.style.Styler at 0x1b57de37670>"
      ]
     },
     "metadata": {},
     "output_type": "display_data"
    },
    {
     "data": {
      "text/html": [
       "<style type=\"text/css\">\n",
       "</style>\n",
       "<table id=\"T_2a6a5\">\n",
       "  <caption>The five least profitable movie sequels</caption>\n",
       "  <thead>\n",
       "    <tr>\n",
       "      <th id=\"T_2a6a5_level0_col0\" class=\"col_heading level0 col0\" >movie</th>\n",
       "      <th id=\"T_2a6a5_level0_col1\" class=\"col_heading level0 col1\" >profit</th>\n",
       "    </tr>\n",
       "  </thead>\n",
       "  <tbody>\n",
       "    <tr>\n",
       "      <td id=\"T_2a6a5_row0_col0\" class=\"data row0 col0\" >Terminator Genisys</td>\n",
       "      <td id=\"T_2a6a5_row0_col1\" class=\"data row0 col1\" >-65600000</td>\n",
       "    </tr>\n",
       "    <tr>\n",
       "      <td id=\"T_2a6a5_row1_col0\" class=\"data row1 col0\" >Sin City: A Dame to Kill For</td>\n",
       "      <td id=\"T_2a6a5_row1_col1\" class=\"data row1 col1\" >-51200000</td>\n",
       "    </tr>\n",
       "    <tr>\n",
       "      <td id=\"T_2a6a5_row2_col0\" class=\"data row2 col0\" >The Expendables 3</td>\n",
       "      <td id=\"T_2a6a5_row2_col1\" class=\"data row2 col1\" >-50700000</td>\n",
       "    </tr>\n",
       "    <tr>\n",
       "      <td id=\"T_2a6a5_row3_col0\" class=\"data row3 col0\" >Night at the Museum: Secret of the Tomb</td>\n",
       "      <td id=\"T_2a6a5_row3_col1\" class=\"data row3 col1\" >-13000000</td>\n",
       "    </tr>\n",
       "    <tr>\n",
       "      <td id=\"T_2a6a5_row4_col0\" class=\"data row4 col0\" >Jack Ryan: Shadow Recruit</td>\n",
       "      <td id=\"T_2a6a5_row4_col1\" class=\"data row4 col1\" >-9500000</td>\n",
       "    </tr>\n",
       "  </tbody>\n",
       "</table>\n"
      ],
      "text/plain": [
       "<pandas.io.formats.style.Styler at 0x1b57dedba00>"
      ]
     },
     "metadata": {},
     "output_type": "display_data"
    }
   ],
   "source": [
    "# Create a new column profit in df_movie by subtracting the variables gross and budget\n",
    "df_movie['profit'] = (df_movie.gross - df_movie.budget).round(2)\n",
    "df_movie['sequelcat'] = np.where(df_movie.sequel == 1, 'original', 'sequel')\n",
    "\n",
    "save1 = df_movie.loc[df_movie.sequelcat == 'original'].filter(['movie', 'profit'], axis = 1)\n",
    "display(save1.sort_values(by='profit', ascending=False).head(5).style.hide(axis = 'index').format(precision=0).set_caption('The five most profitable original movies'))\n",
    "\n",
    "save2 = df_movie.loc[df_movie.sequelcat == 'sequel'].filter(['movie', 'profit'], axis = 1)\n",
    "display(save2.sort_values(by='profit', ascending=True).head(5).style.hide(axis = 'index').format(precision=0).set_caption('The five least profitable movie sequels', ))"
   ]
  },
  {
   "cell_type": "code",
   "execution_count": 221,
   "id": "2a792d1c",
   "metadata": {
    "scrolled": true
   },
   "outputs": [
    {
     "data": {
      "image/png": "[encoded data removed]",
      "text/plain": [
       "<Figure size 360x360 with 1 Axes>"
      ]
     },
     "metadata": {
      "needs_background": "light"
     },
     "output_type": "display_data"
    }
   ],
   "source": [
    "plotlabels = ['original','sequel']\n",
    "plotdata = [df_movie[df_movie['sequelcat']==label]['profit'] / 1000000000 for label in plotlabels]\n",
    "colors = ['blue','orange']\n",
    "plt.figure(figsize=(5, 5))\n",
    "vparts = plt.violinplot(plotdata, showextrema=False) # Violin plot incl. density estimation\n",
    "# We use zip to return a single iterator object, having mapped values from all the containers. \n",
    "for patch, color in zip(vparts['bodies'], colors):\n",
    "    patch.set_color(color) # Set color for violin plot\n",
    "plt.boxplot(plotdata, widths=0.15, zorder=3, labels=plotlabels) # Overlay box plot\n",
    "plt.xlabel('Origin and Sequel')\n",
    "plt.ylabel('Profit (Billion Dollar)')\n",
    "plt.title('Profits of Original movies vs. sequels movies')\n",
    "plt.grid(zorder=0) # Add grid\n",
    "plt.show()"
   ]
  },
  {
   "cell_type": "code",
   "execution_count": 226,
   "id": "90b02a21",
   "metadata": {},
   "outputs": [
    {
     "name": "stdout",
     "output_type": "stream",
     "text": [
      "The minimum and maximum values for the original likes is 1 and 370552, respectively.\n",
      "The minimum and maximum values for the winsorised likes is 85 and 38810, respectively.\n",
      "\n",
      "Summary of value counts for the new ratings category\n"
     ]
    },
    {
     "data": {
      "text/plain": [
       "neutral     68\n",
       "positive    68\n",
       "negative    51\n",
       "Name: ratingscat, dtype: int64"
      ]
     },
     "execution_count": 226,
     "metadata": {},
     "output_type": "execute_result"
    }
   ],
   "source": [
    "# Use windsorize function with 5% (0.05) limits on both ends\n",
    "# Winsorize provides an unbiased representation of the distribution of the variable.\n",
    "# scipy.stats.mstats.winsorize (a, limits=None, inclusive= (True, True), inplace=False, axis=None)\n",
    "# Returns a Winsorized version of the input array. The (limits)th lowest values are set to the (limits)th percentile, \n",
    "# and the (limits)th highest values are set to the (limits)th percentile\n",
    "# Another standard method to deal with outliers is winsorize (transformatin technique to moderate the influence of the extreme \n",
    "# values) While trimming is simply removing outlier from dataset, winsorising changes the outlier to the nearest inlier.\n",
    "# Without droping a single row (all features), i.e., instead of trimming, we can use winsorizing\n",
    "df_movie['likes_winsor'] = stats.mstats.winsorize(df_movie['likes'], limits=[0.05, 0.05])\n",
    "\n",
    "print('The minimum and maximum values for the original likes is {:.0f} and {:.0f}, respectively.'.format(np.min(df_movie['likes']), np.max(df_movie['likes'])))\n",
    "print('The minimum and maximum values for the winsorised likes is {:.0f} and {:.0f}, respectively.'.format(np.min(df_movie['likes_winsor']), np.max(df_movie['likes_winsor'])))\n",
    "\n",
    "# To create ratings bins based on the defined ranges (default is right=false so no need to include)\n",
    "df_movie['ratingscat'] = pd.cut(df_movie['ratings'], bins=[0,5.99,6.79,10], labels=['Negative', 'Neutral', 'Positive'])\n",
    "\n",
    "ratings_labels = ['negative', 'neutral', 'positive']\n",
    "ratings_values = [0,5.9,6.7,10]\n",
    "df_movie['ratingscat'] = pd.cut(df_movie['ratings'], bins=ratings_values, labels=ratings_labels).astype('category')\n",
    "\n",
    "# Show value counts for new ratingscat category\n",
    "\n",
    "print() #space\n",
    "print(\"Summary of value counts for the new ratings category\")\n",
    "df_movie[\"ratingscat\"].value_counts()"
   ]
  },
  {
   "cell_type": "code",
   "execution_count": 230,
   "id": "274201ed",
   "metadata": {
    "scrolled": true
   },
   "outputs": [
    {
     "data": {
      "image/png": "[encoded data removed]",
      "text/plain": [
       "<Figure size 360x360 with 1 Axes>"
      ]
     },
     "metadata": {
      "needs_background": "light"
     },
     "output_type": "display_data"
    }
   ],
   "source": [
    "# Create scatter plot\n",
    "plotlabels = np.sort(df_movie['ratingscat'].unique())\n",
    "plotdata = [df_movie[df_movie['ratingscat']==label][['likes_winsor','gross']] for label in plotlabels]\n",
    "colors = ['red','blue','green'] # Get colors\n",
    "plt.figure(figsize=(5, 5)) # Specify figure size\n",
    "for i, data in enumerate(plotdata):\n",
    "    plt.scatter(data['likes_winsor'],data['gross'] / 1000000000,color=colors[i],label=f\"{plotlabels[i]} ratings\")\n",
    "plt.xlabel('Likes (Winsored)')\n",
    "plt.ylabel('Gross (Billion Dollar)')\n",
    "plt.title('Gross Movie Earnings by Winsored Likes')\n",
    "plt.legend()\n",
    "plt.grid(zorder=0)\n",
    "plt.ticklabel_format(axis='y', style='plain')\n",
    "plt.show()"
   ]
  },
  {
   "cell_type": "code",
   "execution_count": 233,
   "id": "f263cda3",
   "metadata": {},
   "outputs": [
    {
     "data": {
      "text/html": [
       "<div>\n",
       "<style scoped>\n",
       "    .dataframe tbody tr th:only-of-type {\n",
       "        vertical-align: middle;\n",
       "    }\n",
       "\n",
       "    .dataframe tbody tr th {\n",
       "        vertical-align: top;\n",
       "    }\n",
       "\n",
       "    .dataframe thead tr th {\n",
       "        text-align: left;\n",
       "    }\n",
       "\n",
       "    .dataframe thead tr:last-of-type th {\n",
       "        text-align: right;\n",
       "    }\n",
       "</style>\n",
       "<table border=\"1\" class=\"dataframe\">\n",
       "  <thead>\n",
       "    <tr>\n",
       "      <th></th>\n",
       "      <th></th>\n",
       "      <th>N</th>\n",
       "      <th colspan=\"2\" halign=\"left\">profit</th>\n",
       "      <th colspan=\"2\" halign=\"left\">gross</th>\n",
       "      <th colspan=\"2\" halign=\"left\">budget</th>\n",
       "    </tr>\n",
       "    <tr>\n",
       "      <th></th>\n",
       "      <th></th>\n",
       "      <th></th>\n",
       "      <th>mean</th>\n",
       "      <th>std</th>\n",
       "      <th>mean</th>\n",
       "      <th>std</th>\n",
       "      <th>mean</th>\n",
       "      <th>std</th>\n",
       "    </tr>\n",
       "    <tr>\n",
       "      <th>ratingscat</th>\n",
       "      <th>sequelcat</th>\n",
       "      <th></th>\n",
       "      <th></th>\n",
       "      <th></th>\n",
       "      <th></th>\n",
       "      <th></th>\n",
       "      <th></th>\n",
       "      <th></th>\n",
       "    </tr>\n",
       "  </thead>\n",
       "  <tbody>\n",
       "    <tr>\n",
       "      <th rowspan=\"2\" valign=\"top\">negative</th>\n",
       "      <th>original</th>\n",
       "      <td>41</td>\n",
       "      <td>-272956</td>\n",
       "      <td>46907790</td>\n",
       "      <td>39060335</td>\n",
       "      <td>42021960</td>\n",
       "      <td>39333292</td>\n",
       "      <td>42816922</td>\n",
       "    </tr>\n",
       "    <tr>\n",
       "      <th>sequel</th>\n",
       "      <td>10</td>\n",
       "      <td>22003000</td>\n",
       "      <td>19465550</td>\n",
       "      <td>60253000</td>\n",
       "      <td>71073044</td>\n",
       "      <td>38250000</td>\n",
       "      <td>62365076</td>\n",
       "    </tr>\n",
       "    <tr>\n",
       "      <th rowspan=\"2\" valign=\"top\">neutral</th>\n",
       "      <th>original</th>\n",
       "      <td>50</td>\n",
       "      <td>8570419</td>\n",
       "      <td>40523417</td>\n",
       "      <td>46181074</td>\n",
       "      <td>50940229</td>\n",
       "      <td>37610655</td>\n",
       "      <td>41910730</td>\n",
       "    </tr>\n",
       "    <tr>\n",
       "      <th>sequel</th>\n",
       "      <td>18</td>\n",
       "      <td>34738888</td>\n",
       "      <td>72196383</td>\n",
       "      <td>98116666</td>\n",
       "      <td>72482608</td>\n",
       "      <td>63377777</td>\n",
       "      <td>34388499</td>\n",
       "    </tr>\n",
       "    <tr>\n",
       "      <th rowspan=\"2\" valign=\"top\">positive</th>\n",
       "      <th>original</th>\n",
       "      <td>54</td>\n",
       "      <td>33555944</td>\n",
       "      <td>61828501</td>\n",
       "      <td>83507796</td>\n",
       "      <td>88925279</td>\n",
       "      <td>49951851</td>\n",
       "      <td>52966517</td>\n",
       "    </tr>\n",
       "    <tr>\n",
       "      <th>sequel</th>\n",
       "      <td>14</td>\n",
       "      <td>98314285</td>\n",
       "      <td>140955414</td>\n",
       "      <td>266528571</td>\n",
       "      <td>143007167</td>\n",
       "      <td>168214285</td>\n",
       "      <td>50710609</td>\n",
       "    </tr>\n",
       "  </tbody>\n",
       "</table>\n",
       "</div>"
      ],
      "text/plain": [
       "                       N    profit                 gross             \\\n",
       "                              mean        std       mean        std   \n",
       "ratingscat sequelcat                                                  \n",
       "negative   original   41   -272956   46907790   39060335   42021960   \n",
       "           sequel     10  22003000   19465550   60253000   71073044   \n",
       "neutral    original   50   8570419   40523417   46181074   50940229   \n",
       "           sequel     18  34738888   72196383   98116666   72482608   \n",
       "positive   original   54  33555944   61828501   83507796   88925279   \n",
       "           sequel     14  98314285  140955414  266528571  143007167   \n",
       "\n",
       "                         budget            \n",
       "                           mean       std  \n",
       "ratingscat sequelcat                       \n",
       "negative   original    39333292  42816922  \n",
       "           sequel      38250000  62365076  \n",
       "neutral    original    37610655  41910730  \n",
       "           sequel      63377777  34388499  \n",
       "positive   original    49951851  52966517  \n",
       "           sequel     168214285  50710609  "
      ]
     },
     "execution_count": 233,
     "metadata": {},
     "output_type": "execute_result"
    }
   ],
   "source": [
    "df_movie_stats = df_movie.groupby(['ratingscat', 'sequelcat'])[['profit', 'gross', 'budget']].agg({'profit': ['mean', 'std'], 'gross': ['mean', 'std'], 'budget': ['mean', 'std']}).astype('int64')\n",
    "\n",
    "# To add a column that counts the values for each group:\n",
    "df_movie_stats.insert(0, \"N\", df_movie['profit'].groupby([df_movie['ratingscat'], df_movie['sequelcat']]).count(), True)\n",
    "\n",
    "# Print to screen\n",
    "df_movie_stats"
   ]
  },
  {
   "cell_type": "code",
   "execution_count": 247,
   "id": "c936a8a1",
   "metadata": {},
   "outputs": [
    {
     "name": "stdout",
     "output_type": "stream",
     "text": [
      "test statistic chi_sq = 32.2842; p-value = 9.7628e-08\n"
     ]
    }
   ],
   "source": [
    "# Recall) Bartlett's test works well for data that is normally distributed or even if the sample distribution is \n",
    "# Chi-squared (like normal distribution; shifted to left-side)\n",
    "# We can compare more than two groups (here, we have three groups of proft), we want to check the p value, to see wether those \n",
    "# variances are homogeneous or not\n",
    "# The assumption is that the variances are homogeneous; # p-value is that chance of the likelihood of the difference\n",
    "# in chance is very small\n",
    "# If the p-values are too small (<0.05), the tests (bartlett or levene) indicate that the variances are not homogeneous\n",
    "# Bartlett's test (chi-sq and p-value) is similar to Levene's test (W and p-value), but they just use different values\n",
    "# In Levene, W-value is equal to the F-statistic which is produced by ANOVA test (analysis of variance)\n",
    "# Both tests can indicate that the variances are not homogeneous. We can run a Welch test when comparing the means.\n",
    "# In the t-test, we assume that non-homogeneous variances\n",
    "stat, p = stats.bartlett(df_movie[df_movie['ratingscat']=='negative']['profit'], df_movie[df_movie['ratingscat']=='neutral']['profit'], df_movie[df_movie['ratingscat']=='positive']['profit'])\n",
    "print(f\"test statistic chi_sq = {stat:.4f}; p-value = {p:.4e}\")"
   ]
  },
  {
   "cell_type": "markdown",
   "id": "9ff861bb",
   "metadata": {},
   "source": [
    "The null hypothesis (H0 assumption) is that all three categorise have equal variances. (i.e., Their variances are homogeneous)\n",
    "$H_0: \\sigma_{profit,Negative}^2 = \\sigma_{profit,Neutral}^2 = \\sigma_{profit,Positive}^2$\n",
    "\n",
    "The resulting p-value is less than 0.05, so the assumption H0 is rejected, and thus the variances in profit are not homogeneous. Conceptually, the test statistically confirms the difference between the variances of the profit of three rating groups (positive, negative, neutral) is statistically significant."
   ]
  },
  {
   "cell_type": "code",
   "execution_count": 248,
   "id": "dd7fb9f8",
   "metadata": {
    "scrolled": true
   },
   "outputs": [
    {
     "name": "stdout",
     "output_type": "stream",
     "text": [
      "The F-value = 7.1544 and p-value = 1.0181e-03\n"
     ]
    }
   ],
   "source": [
    "# One-way analysis of variance (ANOVA) test is for more than two groups\n",
    "# ANOVA (F-test) a parametric test to determine whether a categorical variable (with k groups) has a\n",
    "# significance influence on the variance of a variable\n",
    "# To compare multiple comparisons, while t-test could only compare 2 groups\n",
    "# We use f_oneway from scipy for the F-value. The null hypothesis (H0) is that there are no differences in the population \n",
    "# between the means of the individual groups. Alternative hypothesis (H1) is that in the populationat least two group means\n",
    "# differ from each other.\n",
    "# The F-statistic value shows how far the data is scattered from the mean, larger F-value indicate a larger dispersion of data.\n",
    "# The F‐statistic equals to the variance between groups divided by the variance within groups\n",
    "# If the variance between groups is so much greater than the variance within groups (e.g., algorithms), \n",
    "# there is a significant relationship # between the two variables\n",
    "# Then we need to know which one is significantly different: Thus, we use PostHoc comparisons to gain this information\n",
    "# The difference between the posthoc analysis tests is most likely due to the non-homogeneous variances\n",
    "stat, p = stats.f_oneway(df_movie[df_movie['ratingscat']=='negative']['profit'], df_movie[df_movie['ratingscat']=='neutral']['profit'], df_movie[df_movie['ratingscat']=='positive']['profit'])\n",
    "print(\"The F-value = {:.4f} and p-value = {:.4e}\".format(stat, p))"
   ]
  },
  {
   "cell_type": "code",
   "execution_count": 249,
   "id": "6fdd2587",
   "metadata": {},
   "outputs": [
    {
     "name": "stdout",
     "output_type": "stream",
     "text": [
      "Tukey HSD\n",
      "----------\n",
      "\n",
      "           Multiple Comparison of Means - Tukey HSD, FWER=0.05            \n",
      "==========================================================================\n",
      " group1   group2     meandiff   p-adj      lower          upper     reject\n",
      "--------------------------------------------------------------------------\n",
      "negative  neutral 11402489.0697 0.6127 -17114502.1072 39919480.2465  False\n",
      "negative positive 42793666.2745 0.0014  14276675.0976 71310657.4514   True\n",
      " neutral positive 31391177.2049 0.0151   4989573.5883 57792780.8214   True\n",
      "--------------------------------------------------------------------------\n"
     ]
    }
   ],
   "source": [
    "# Make sure statsmodel is installed: Anaconda >> Environment >> search for statsmodels and install it\n",
    "# To know which of the three groups is significantly different than others\n",
    "# Mmultiple PostHoc analysis tests (Pairwise t-Test, Tukey honestly significant difference\"), that are very similar, \n",
    "# they just use different values\n",
    "# Tukey HSD test compares the means of every group\n",
    "comp = MultiComparison(df_movie['profit'], df_movie['ratingscat']).tukeyhsd().summary()\n",
    "print(\"Tukey HSD\")\n",
    "print(\"----------\")\n",
    "print(\"\")\n",
    "print(comp)"
   ]
  },
  {
   "cell_type": "markdown",
   "id": "42302787",
   "metadata": {},
   "source": [
    "According to adjusted p-values (p-adj) of pairwise analysis result, there is significant differences in the mean profit of negative - positive (0.0014<0.05) and neutral - positive (0.0151<0.05) rated movies. However, the p-adj of negative - neutral (0.6127>0.05) of rated movies indicates that there is a similarity between the mean profits of the groups, and we cannot reject the null hypothesis."
   ]
  },
  {
   "cell_type": "code",
   "execution_count": 253,
   "id": "3cd2785d",
   "metadata": {},
   "outputs": [
    {
     "name": "stdout",
     "output_type": "stream",
     "text": [
      "The mean profit for original movies is $15374833, and for sequels is $52898333\n",
      "\n",
      "BARTLETT TEST: test statistic chi_sq = 29.2724; p-value = 6.2886e-08\n",
      "LEVENE TEST:   test statistic      W = 5.0740;  p-value = 2.5462e-02\n",
      "\n",
      "Both tests indicate the variances are non-homogeneous so we t-test with Welch method\n",
      "\n",
      "T-TEST WITH WELCH MOD: test statistic t = 2.3808; p-value = 0.021287\n"
     ]
    }
   ],
   "source": [
    "# First find the means for the profits for original and sequel movies\n",
    "\n",
    "mean_original = np.mean(df_movie[df_movie['sequelcat']=='original']['profit'])\n",
    "mean_sequel = np.mean(df_movie[df_movie['sequelcat']=='sequel']['profit'])\n",
    "\n",
    "print(\"The mean profit for original movies is ${:.0f}, and for sequels is ${:.0f}\".format(mean_original, mean_sequel))\n",
    "print(\"\")\n",
    "\n",
    "# Recall) When variance between two groups is not homogeneous, we use Welch t-test\n",
    "# To analyse the difference of means with the assumption that each of the groups there have a difference variances (unpaired or\n",
    "# independant t-test)\n",
    "# Recall) Levene’s Test – A test that is more robust to deviations from normal distribution than Bartlett's test.\n",
    "# Levene's test is less sensitive than the Bartlett's test \n",
    "# If data is normally distributed, then Bartlett's test is better\n",
    "\n",
    "# Then conduct Barlet and Levene tests to determine if a Welch test is required (for non-homogeneous variances)\n",
    "# Bartlett test\n",
    "stat, p = stats.bartlett(df_movie[df_movie['sequelcat']=='original']['profit'], df_movie[df_movie['sequelcat']=='sequel']['profit'])\n",
    "print(\"BARTLETT TEST: test statistic chi_sq = {:.4f}; p-value = {:.4e}\".format(stat, p))\n",
    "\n",
    "# Levene test\n",
    "stat, p = stats.levene(df_movie[df_movie['sequelcat']=='original']['profit'], df_movie[df_movie['sequelcat']=='sequel']['profit'])\n",
    "print(\"LEVENE TEST:   test statistic      W = {:.4f};  p-value = {:.4e}\".format(stat, p))\n",
    "\n",
    "print(\"\")\n",
    "print(\"Both tests indicate the variances are non-homogeneous so we t-test with Welch method\")\n",
    "print(\"\")\n",
    "\n",
    "# Recall) t-test is for two-group comparison \n",
    "# Recall) statistic package stats.ttest_ind in python; T-test independent for the unpaired, \n",
    "# this is not for homogeneous variances\n",
    "# T-test is use to compare only two groups, no more than that\n",
    "# equal_var = true means you are working on homogeneous variances\n",
    "# From this, we can get t-test result (t value) the diff between two means in units of standard error\n",
    "# p-value: how likely it is that the sample means are different by chance, based on comparing t-value with the critical t-values\n",
    "# Since p-value is very small, so it is very unlikely that the difference in ... between ... and ...is just by chance\n",
    "\n",
    "# >>> t-test independent function, equal_var = False. And we know that t-test measures the differences between two means\n",
    "# in units of standard error, and p-value shows how likely it is that the sample means differ by chance. This is based on \n",
    "# comparing the t-value with critical t-values.\n",
    "# default value for equal_var is True.\n",
    "\n",
    "# t-value is a test statistic that measures the differences between two means in units of standard error\n",
    "# significance value is 5%, 0.05, and p-value is absolutely smaller than significance value, so we need to reject\n",
    "# the null hypothesis (null hypothesis is that these two groups have no difference)\n",
    "\n",
    "# Conduct a t-test where 'equal_var=False'\n",
    "# For variance homogenous, we use equal_var=True, but for the Welch test we use equal_var=True, if it is set to true, then the\n",
    "# assumption is that the variance is the same\n",
    "# The following is the independent sample t-test\n",
    "stat, p = stats.ttest_ind(a=df_movie[df_movie['sequelcat']=='sequel']['profit'], b=df_movie[df_movie['sequelcat']=='original']['profit'], equal_var=False)\n",
    "print(\"T-TEST WITH WELCH MOD: test statistic t = {:.4f}; p-value = {:.6f}\".format(stat, p))"
   ]
  },
  {
   "cell_type": "markdown",
   "id": "fa56a041",
   "metadata": {},
   "source": [
    "The null hypothesis (H0) is that all groups have equal variance:\n",
    "\n",
    "$H_0: \\sigma_{profit,Original}^2 = \\sigma_{profit,Sequel}^2$\n",
    "\n",
    "A Levene's test is used to measure variance equality as it is more robust to deviations from the normal distribution. The results of the Levene's test for variance shows <em>p < .05</em>. We therefore reject the null hypothesis and conclude that the population variances are not equal.\n",
    "\n",
    "Since both Barlett and Levene's test indicated the variances are not homogeneous, we ran a Welch test (t-test with non-homogeneous variances) to determine if the mean profit of original and sequel movies are equal. The t-Test confirms there are differences in the mean profit of original movies compared to movie sequels (<em>p = .0213</em>). \n",
    "\n",
    "Given we are performing only a single comparison the Pairwise t-Test is an appropriate post-hoc test. The Pairwise t-Test confirms that the mean profit of original movies is significantly less than the mean profit of movie sequels (<em>t = -3.2646, p = .0013</em>). We conclude that the means of the profots for original and sequel movies is statistically significant."
   ]
  },
  {
   "cell_type": "code",
   "execution_count": null,
   "id": "4e130679",
   "metadata": {},
   "outputs": [],
   "source": []
  }
 ],
 "metadata": {
  "kernelspec": {
   "display_name": "Python 3 (ipykernel)",
   "language": "python",
   "name": "python3"
  },
  "language_info": {
   "codemirror_mode": {
    "name": "ipython",
    "version": 3
   },
   "file_extension": ".py",
   "mimetype": "text/x-python",
   "name": "python",
   "nbconvert_exporter": "python",
   "pygments_lexer": "ipython3",
   "version": "3.9.12"
  }
 },
 "nbformat": 4,
 "nbformat_minor": 5
}
